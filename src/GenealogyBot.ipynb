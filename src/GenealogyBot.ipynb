{
 "cells": [
  {
   "cell_type": "markdown",
   "metadata": {},
   "source": [
    "# GenealogyBot"
   ]
  },
  {
   "cell_type": "markdown",
   "metadata": {},
   "source": [
    "Le but de ce bot est d'extraire les données généalogiques provenant l'extraction du recensement de 1832 dans la ville de Lausanne et de créer des pages correspondantes sur wikipast en respectant la bonne syntaxe.\n",
    "\n",
    "Le document original est accessible sur le [site des archives de Lausanne](https://mipade.mediancer.com/avl/avl_viewer.html?mag=14918). \n"
   ]
  },
  {
   "cell_type": "markdown",
   "metadata": {},
   "source": [
    "## 1 Connexion au bot sur wikipast"
   ]
  },
  {
   "cell_type": "markdown",
   "metadata": {},
   "source": [
    "Connexion sur wikipast avec l'identifant et le mot de passe créé pour le bot GenealogyBot."
   ]
  },
  {
   "cell_type": "code",
   "execution_count": null,
   "metadata": {},
   "outputs": [],
   "source": [
    "from pywikiapi import Site\n",
    "\n",
    "user = 'JDezalos@GenealogyBot'\n",
    "password = 'vu12lg9or06k5pnv1lpur3ou45sd7mat' #critical security breach\n",
    "\n",
    "site = Site('http://wikipast.epfl.ch/wikipast/api.php') # Définition de l'adresse de l'API\n",
    "site.no_ssl = True  # Désactivation du https, car pas activé sur wikipast\n",
    "site.login(user, password)  # Login du bot sur wikipast"
   ]
  },
  {
   "cell_type": "markdown",
   "metadata": {},
   "source": [
    "## 2 Extraction des données"
   ]
  },
  {
   "cell_type": "code",
   "execution_count": null,
   "metadata": {},
   "outputs": [],
   "source": [
    "import pandas as pd\n",
    "\n",
    "from IPython.display import display\n",
    "from urllib.parse import quote"
   ]
  },
  {
   "cell_type": "markdown",
   "metadata": {},
   "source": [
    "## 3 Vérification d'existance"
   ]
  },
  {
   "cell_type": "code",
   "execution_count": null,
   "metadata": {},
   "outputs": [],
   "source": [
    "all_parent = pd.read_csv(\"../data/filtered.csv\")"
   ]
  },
  {
   "cell_type": "code",
   "execution_count": null,
   "metadata": {},
   "outputs": [],
   "source": [
    "pages_names = all_parent.apply(lambda x: (x.chef_prenom +\" \"+ x.chef_nom).title(), axis=1)\n",
    "\n",
    "results_pages = []\n",
    "for page in pages_names:\n",
    "    # Si on veut plus d'info sur les pages qui existent, ajouter à prop\n",
    "    # Voir http://wikipast.epfl.ch/wikipast/api.php?action=help&modules=query\n",
    "    for res in site.query_pages(titles=page, prop=[\"contributors\"]):  \n",
    "        results_pages.append(res)\n",
    "results_pages"
   ]
  },
  {
   "cell_type": "code",
   "execution_count": null,
   "metadata": {},
   "outputs": [],
   "source": [
    "def on_missing_parent(content):\n",
    "    prenom = content['chef_prenom'].title()\n",
    "    nom = content['chef_nom'].title()\n",
    "    titre = '%s %s'%(content['chef_prenom'].title(), content['chef_nom'].title())\n",
    "\n",
    "    new_page_father(titre, prenom, nom, date_naissance, source)\n",
    "def on_existing_parent(content):\n",
    "    prenom = content['chef_prenom'].title()\n",
    "    nom = content['chef_nom'].title()\n",
    "    titre = '%s %s %s'%(content['chef_prenom'].title(), content['chef_nom'].title(), \"- Généalogie\")\n",
    "\n",
    "    new_page_father(titre, prenom, nom, date_naissance, source)"
   ]
  },
  {
   "cell_type": "code",
   "execution_count": null,
   "metadata": {},
   "outputs": [],
   "source": [
    "missing = [page[\"title\"] for page in results_pages if page.get(\"missing\", False) is True]\n",
    "existing_pages = [page for page in results_pages if page.get(\"missing\", False) is False] # existing == not missing donc ça devrait pas être nécessaire\n",
    "missing.extend([page[\"title\"] for page in existing_pages if len(page.get(\"contributors\")) == 1 and page.get(\"contributors\")[0].get(\"name\", \"\") == \"JDezalos\"])\n",
    "# existing = [miss for miss in results_pages if not \"missing\" in miss] # existing == not missing donc ça devrait pas être nécessaire\n",
    "\n",
    "\n",
    "\n",
    "#all_parent[\"missing\"] = all_parent.apply(lambda x: on_missing_parent(x) if (x.chef_prenom +\" \"+ x.chef_nom).title() in missing else on_existing_parent(x), axis=1)\n"
   ]
  },
  {
   "cell_type": "code",
   "execution_count": null,
   "metadata": {},
   "outputs": [],
   "source": [
    "all_child = pd.read_csv(\"../data/chef_enfant.csv\")"
   ]
  },
  {
   "cell_type": "code",
   "execution_count": null,
   "metadata": {},
   "outputs": [],
   "source": [
    "child_pages_names = all_child.apply(lambda x: (x.enfants_dans_la_commune_prenom +\" \"+ x.chef_nom).title(), axis=1)\n",
    "\n",
    "child_results_pages = []\n",
    "for page in child_pages_names:\n",
    "    # Si on veut plus d'info sur les pages qui existent, ajouter à prop\n",
    "    # Voir http://wikipast.epfl.ch/wikipast/api.php?action=help&modules=query\n",
    "    for res in site.query_pages(titles=page, prop=[\"contributors\"]):  \n",
    "        child_results_pages.append(res)\n",
    "child_results_pages"
   ]
  },
  {
   "cell_type": "code",
   "execution_count": null,
   "metadata": {},
   "outputs": [],
   "source": [
    "def check_if_parent_is_missing(content):\n",
    "    prenom_enfant = content['enfants_dans_la_commune_prenom'].title()\n",
    "    date_naissance_enfant = content['annee_enfant']\n",
    "    nom_pere = content['chef_nom'].title()\n",
    "    prenom_pere = content['chef_prenom'].title()\n",
    "    nom_mere = content['epouse_nom'].title()\n",
    "    titre = '%s %s'%(prenom_pere, nom_pere)\n",
    "    if titre in missing:\n",
    "        entry_birth_children(titre, prenom_enfant, date_naissance_enfant, nom_pere, prenom_pere, nom_mere, source)\n",
    "    else:\n",
    "        titre = '%s %s %s'%(prenom_pere, nom_pere, \"- Généalogie\")\n",
    "        entry_birth_children(titre, prenom_enfant, date_naissance_enfant, nom_pere, prenom_pere, nom_mere, source)\n",
    "        \n",
    "        \n",
    "def on_missing_child(content):\n",
    "    prenom_enfant = content['enfants_dans_la_commune_prenom'].title()\n",
    "    date_naissance_enfant = content['annee_enfant']\n",
    "    nom_pere = content['chef_nom'].title()\n",
    "    prenom_pere = content['chef_prenom'].title()\n",
    "    nom_mere = content['epouse_nom'].title()\n",
    "    titre = '%s %s'%(content['enfants_dans_la_commune_prenom'].title(), content['chef_nom'].title())\n",
    "\n",
    "    new_page_children(titre, prenom_enfant, date_naissance_enfant, nom_pere, prenom_pere, nom_mere, source)\n",
    "    check_if_parent_is_missing(content)\n",
    "    \n",
    "def on_existing_child(content):\n",
    "    prenom_enfant = content['enfants_dans_la_commune_prenom'].title()\n",
    "    date_naissance_enfant = content['annee_enfant']\n",
    "    nom_pere = content['chef_nom'].title()\n",
    "    prenom_pere = content['chef_prenom'].title()\n",
    "    nom_mere = content['epouse_nom'].title()\n",
    "    titre = '%s %s %s'%(content['enfants_dans_la_commune_prenom'].title(), content['chef_nom'], \"- Généalogie\")\n",
    "    \n",
    "    new_page_children(titre, prenom_enfant, date_naissance_enfant, nom_pere, prenom_pere, nom_mere, source)\n",
    "    check_if_parent_is_missing(content)"
   ]
  },
  {
   "cell_type": "code",
   "execution_count": null,
   "metadata": {},
   "outputs": [],
   "source": [
    "child_missing = [page[\"title\"] for page in child_results_pages if page.get(\"missing\", False) is True]\n",
    "child_existing_pages = [page for page in child_results_pages if page.get(\"missing\", False) is False] # existing == not missing donc ça devrait pas être nécessaire\n",
    "child_missing.extend([page[\"title\"] for page in child_existing_pages if len(page.get(\"contributors\")) == 1 and page.get(\"contributors\")[0].get(\"name\", \"\") == \"JDezalos\"])\n",
    "\n",
    "all_child[\"missing\"] = all_child.apply(lambda x: on_missing_child(x) if (x.enfants_dans_la_commune_prenom +\" \"+ x.chef_nom).title() in child_missing else on_existing_child(x), axis=1)"
   ]
  },
  {
   "cell_type": "markdown",
   "metadata": {},
   "source": [
    "### 3.1 Création de pages"
   ]
  },
  {
   "cell_type": "markdown",
   "metadata": {},
   "source": [
    "#### 3.1.1 Création d'une nouvelle page avec l'entrée correspondant à la naissance de la personne"
   ]
  },
  {
   "cell_type": "markdown",
   "metadata": {},
   "source": [
    "Définition des fonctions \"new_page_father\" et \"new_page_children\" permettant de créer respectivement une page pour un chef de famille ou une page pour un enfant avec une entrée pour leur naissance en utilisant la syntaxe correcte :\n",
    "\n",
    "- pour les chefs de famille : `[[Date]]/ -. [[Naissance]] de [[Prénom Nom]]. [Source]`\n",
    "\n",
    "- pour les enfants : `[[Date]]/ -. [[Naissance]] de [[Prénom Nom]], enfant de [[Prénom Nom]] et de son épouse née Nom. [Source]`"
   ]
  },
  {
   "cell_type": "code",
   "execution_count": null,
   "metadata": {},
   "outputs": [],
   "source": [
    "def new_page_father(titre, prenom, nom, date_naissance, source):\n",
    "    text = '\\n* [[%s]] / -. [[Naissance]] de [[%s %s]]. [%s]\\n'%(date_naissance, prenom, nom, source)\n",
    "    site('edit', title=titre, text=text, token=site.token())\n",
    "    \n",
    "def new_page_children(titre, prenom_enfant, date_naissance_enfant, nom_pere, prenom_pere, nom_mere, source):\n",
    "    text = '\\n* [[%d]] / -. [[Naissance]] de [[%s %s]], enfant de [[%s %s]] et de son épouse née %s. [%s]\\n'%(date_naissance_enfant, prenom_enfant, nom_pere, prenom_pere, nom_pere, nom_mere, source)\n",
    "    site('edit', title=titre, text=text, token=site.token())"
   ]
  },
  {
   "cell_type": "markdown",
   "metadata": {},
   "source": [
    "Définition de la source des données utilisées (qui est la même pour toutes les entrées)."
   ]
  },
  {
   "cell_type": "code",
   "execution_count": null,
   "metadata": {},
   "outputs": [],
   "source": [
    "source = 'https://mipade.mediancer.com/avl/avl_viewer.html?mag=14918'\n",
    "titre = 'TestGenealogyBot3'\n",
    "new_page_father(titre, \"prenom\",\"nom\", \"date_naissance\", \"source\")"
   ]
  },
  {
   "cell_type": "markdown",
   "metadata": {},
   "source": [
    "Création d'une page pour tous les chefs de famille dont la page n'est pas déjà existante. On utilise le fichier \"1832_pc_relevant_columns.csv\" qui contient le nom, le prénom et la date de naissance de tous les chefs de famille (y compris ceux qui n'ont pas d'enfants)."
   ]
  },
  {
   "cell_type": "code",
   "execution_count": null,
   "metadata": {},
   "outputs": [],
   "source": [
    "data_bottin = pd.read_csv('../data/1832_pc_relevant_columns.csv')\n",
    "nombre_chefs_famille = len(data_bottin.index)\n",
    "\n",
    "for i in range (0,nombre_chefs_famille):\n",
    "    prenom = data_bottin['chef_prenom'].str.title()[i]\n",
    "    nom = data_bottin['chef_nom'].str.title()[i]\n",
    "    titre = '[[%s %s]]'%(data_bottin['chef_prenom'].str.title()[i], data_bottin['chef_nom'].str.title()[i])\n",
    "\n",
    "    new_page_father(titre, prenom, nom, date_naissance, source)"
   ]
  },
  {
   "cell_type": "markdown",
   "metadata": {},
   "source": [
    "Création d'une page pour tous les enfants dont la page n'est pas déjà existante. On utilise le fichier \"chef_enfant.csv\" qui contient le prénom de tous les enfants associé à celui de leurs parents ainsi que leur date de naissance."
   ]
  },
  {
   "cell_type": "code",
   "execution_count": null,
   "metadata": {},
   "outputs": [],
   "source": [
    "data_bottin = pd.read_csv('../data/chef_enfant.csv')\n",
    "nombre_enfants = len(data_bottin.index)\n",
    "\n",
    "for i in range (0, nombre_enfants):\n",
    "    \n",
    "    prenom_enfant = data_bottin['enfants_dans_la_commune_prenom'].str.title()[i]\n",
    "    date_naissance_enfant = data_bottin['annee_enfant'][i]\n",
    "    nom_pere = data_bottin['chef_nom'].str.title()[i]\n",
    "    prenom_pere = data_bottin['chef_prenom'].str.title()[i]\n",
    "    nom_mere = data_bottin['epouse_nom'].str.title()[i]\n",
    "    titre = '%s %s'%(data_bottin['enfants_dans_la_commune_prenom'].str.title()[i], data_bottin['chef_nom'].str.title()[i])\n",
    "    \n",
    "    new_page_children(titre, prenom_enfant, date_naissance_enfant, nom_pere, prenom_pere, nom_mere, source)"
   ]
  },
  {
   "cell_type": "markdown",
   "metadata": {},
   "source": [
    "#### 3.1.2 Création d'entrées correspondant à la naissance d'un enfant sur la page du chef de famille"
   ]
  },
  {
   "cell_type": "markdown",
   "metadata": {},
   "source": [
    "Création de la fonction \"entry_birth_children\" permettant de rajouter à la page du chef de famille une entrée correpondant à la naissance de chacun de ses enfants. La syntaxe utilisée pour ces entrées est exactement la même que celle utilisée lors de la création de la page pour les enfants :\n",
    "\n",
    "`[[Date]]/ -. [[Naissance]] de [[Prénom Nom]], enfant de [[Prénom Nom]] et de son épouse née Nom. [Source]`"
   ]
  },
  {
   "cell_type": "code",
   "execution_count": null,
   "metadata": {},
   "outputs": [],
   "source": [
    "def entry_birth_children(titre, prenom_enfant, date_naissance_enfant, nom_pere, prenom_pere, nom_mere, source):\n",
    "    text = '\\n* [[%d]] / -. [[Naissance]] de [[%s %s]], enfant de [[%s %s]] et de son épouse née %s. [%s]\\n'%(date_naissance_enfant, prenom_enfant, nom_pere, prenom_pere, nom_pere, nom_mere, source)\n",
    "    #titre = '[[%s %s]]'%(prenom_enfant, nom_pere)\n",
    "    site('edit', title=titre, appendtext=text, token=site.token())"
   ]
  },
  {
   "cell_type": "markdown",
   "metadata": {},
   "source": [
    "Créations des entrées correspondant à la naissance d'un enfant sur la page du père de famille."
   ]
  },
  {
   "cell_type": "code",
   "execution_count": null,
   "metadata": {},
   "outputs": [],
   "source": [
    "data_bottin = pd.read_csv('../data/chef_enfant.csv')\n",
    "nombre_enfants = len(data_bottin.index)\n",
    "\n",
    "for i in range (0, nombre_enfants):\n",
    "    \n",
    "    prenom_enfant = data_bottin['enfants_dans_la_commune_prenom'].str.title()[i]\n",
    "    date_naissance_enfant = data_bottin['annee_enfant'][i]\n",
    "    nom_pere = data_bottin['chef_nom'].str.title()[i]\n",
    "    prenom_pere = data_bottin['chef_prenom'].str.title()[i]\n",
    "    nom_mere = data_bottin['epouse_nom'].str.title()[i]\n",
    "    titre = '%s %s'%(data_bottin['chef_prenom'].str.title()[i], data_bottin['chef_nom'].str.title()[i])\n",
    "    "
   ]
  },
  {
   "cell_type": "markdown",
   "metadata": {},
   "source": [
    "## Remarques utiles"
   ]
  },
  {
   "cell_type": "markdown",
   "metadata": {},
   "source": [
    "Remarque :\n",
    "\n",
    "- les dates sont des nombres dans \"chef_enfant.csv\" \n",
    "- les dates sont des strings dans \"1832_pc_relevant_columns.csv\""
   ]
  },
  {
   "cell_type": "code",
   "execution_count": null,
   "metadata": {},
   "outputs": [],
   "source": [
    "data_bottin = pd.read_csv('../data/chef_enfant.csv')\n",
    "nombre_enfants = len(data_bottin.index)\n",
    "\n",
    "date_naissance_enfant = data_bottin['annee_enfant'][0]\n",
    "date_naissance_enfant\n"
   ]
  },
  {
   "cell_type": "code",
   "execution_count": null,
   "metadata": {},
   "outputs": [],
   "source": [
    "data_bottin = pd.read_csv('../data/1832_pc_relevant_columns.csv')\n",
    "nombre_chefs_famille = len(data_bottin.index)\n",
    "\n",
    "date_naissance = data_bottin['chef_annee_naissance'][0]        \n",
    "date_naissance"
   ]
  },
  {
   "cell_type": "code",
   "execution_count": null,
   "metadata": {},
   "outputs": [],
   "source": []
  }
 ],
 "metadata": {
  "kernelspec": {
   "display_name": "Python 3",
   "language": "python",
   "name": "python3"
  },
  "language_info": {
   "codemirror_mode": {
    "name": "ipython",
    "version": 3
   },
   "file_extension": ".py",
   "mimetype": "text/x-python",
   "name": "python",
   "nbconvert_exporter": "python",
   "pygments_lexer": "ipython3",
   "version": "3.8.3"
  }
 },
 "nbformat": 4,
 "nbformat_minor": 4
}
